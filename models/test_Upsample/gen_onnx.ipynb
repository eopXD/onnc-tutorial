{
 "cells": [
  {
   "cell_type": "code",
   "execution_count": 20,
   "metadata": {},
   "outputs": [],
   "source": [
    "import onnx\n",
    "from onnx import helper\n",
    "from onnx import AttributeProto, TensorProto, GraphProto\n",
    "import numpy as np\n",
    "from onnx.backend.test.case.node import expect"
   ]
  },
  {
   "cell_type": "code",
   "execution_count": 23,
   "metadata": {},
   "outputs": [],
   "source": [
    "node = onnx.helper.make_node(\n",
    "    'Upsample',\n",
    "    inputs=['x'],\n",
    "    outputs=['y'],\n",
    "    scales=[1.0, 1.0, 2.0, 2.0],\n",
    "    mode='nearest',\n",
    ")\n",
    "\n",
    "data = np.array([[[\n",
    "    [1, 2],\n",
    "    [3, 4],\n",
    "]]], dtype=np.float32)\n",
    "\n",
    "output = np.array([[[\n",
    "    [1, 1, 1, 2, 2, 2],\n",
    "    [1, 1, 1, 2, 2, 2],\n",
    "    [3, 3, 3, 4, 4, 4],\n",
    "    [3, 3, 3, 4, 4, 4],\n",
    "]]], dtype=np.float32)\n",
    "\n",
    "expect(node, inputs=[data], outputs=[output],\n",
    "       name='test_upsample_nearest')"
   ]
  },
  {
   "cell_type": "code",
   "execution_count": 25,
   "metadata": {},
   "outputs": [],
   "source": [
    "x = helper.make_tensor_value_info('x', TensorProto.FLOAT, [1, 1, 2, 2])\n",
    "w = helper.make_tensor_value_info('w', TensorProto.FLOAT, [2, 2])\n",
    "y = helper.make_tensor_value_info('y', TensorProto.FLOAT, [1, 1, 4, 4])"
   ]
  },
  {
   "cell_type": "code",
   "execution_count": 26,
   "metadata": {},
   "outputs": [],
   "source": [
    "node = onnx.helper.make_node(\n",
    "    'Upsample',\n",
    "    inputs=['x', 'w'],\n",
    "    outputs=['y'],\n",
    "    scales=[1.0, 1.0, 2.0, 2.0],\n",
    "    mode='nearest',\n",
    ")"
   ]
  },
  {
   "cell_type": "code",
   "execution_count": 27,
   "metadata": {},
   "outputs": [],
   "source": [
    "# create the graph\n",
    "graph_def = helper.make_graph(\n",
    "    [node],\n",
    "    'test_UpSample',\n",
    "    [x, w],\n",
    "    [y],\n",
    ")\n",
    "\n",
    "# create the model\n",
    "model_def = helper.make_model(\n",
    "    graph_def,\n",
    "    producer_name = 'onnc-rookie'\n",
    ")\n",
    "\n",
    "onnx.save(model_def, 'test_Upsample.onnx')"
   ]
  },
  {
   "cell_type": "code",
   "execution_count": 28,
   "metadata": {
    "scrolled": true
   },
   "outputs": [
    {
     "name": "stdout",
     "output_type": "stream",
     "text": [
      "ir_version: 3\n",
      "producer_name: \"onnc-rookie\"\n",
      "graph {\n",
      "  node {\n",
      "    input: \"x\"\n",
      "    output: \"y\"\n",
      "    op_type: \"Upsample\"\n",
      "    attribute {\n",
      "      name: \"mode\"\n",
      "      s: \"nearest\"\n",
      "      type: STRING\n",
      "    }\n",
      "    attribute {\n",
      "      name: \"scales\"\n",
      "      floats: 1.0\n",
      "      floats: 1.0\n",
      "      floats: 2.0\n",
      "      floats: 2.0\n",
      "      type: FLOATS\n",
      "    }\n",
      "  }\n",
      "  name: \"test_UpSample\"\n",
      "  input {\n",
      "    name: \"x\"\n",
      "    type {\n",
      "      tensor_type {\n",
      "        elem_type: FLOAT\n",
      "        shape {\n",
      "          dim {\n",
      "            dim_value: 1\n",
      "          }\n",
      "          dim {\n",
      "            dim_value: 1\n",
      "          }\n",
      "          dim {\n",
      "            dim_value: 2\n",
      "          }\n",
      "          dim {\n",
      "            dim_value: 2\n",
      "          }\n",
      "        }\n",
      "      }\n",
      "    }\n",
      "  }\n",
      "  output {\n",
      "    name: \"y\"\n",
      "    type {\n",
      "      tensor_type {\n",
      "        elem_type: FLOAT\n",
      "        shape {\n",
      "          dim {\n",
      "            dim_value: 1\n",
      "          }\n",
      "          dim {\n",
      "            dim_value: 1\n",
      "          }\n",
      "          dim {\n",
      "            dim_value: 4\n",
      "          }\n",
      "          dim {\n",
      "            dim_value: 4\n",
      "          }\n",
      "        }\n",
      "      }\n",
      "    }\n",
      "  }\n",
      "}\n",
      "opset_import {\n",
      "  version: 8\n",
      "}\n",
      "\n"
     ]
    }
   ],
   "source": [
    "print(model_def)"
   ]
  },
  {
   "cell_type": "code",
   "execution_count": null,
   "metadata": {},
   "outputs": [],
   "source": []
  }
 ],
 "metadata": {
  "kernelspec": {
   "display_name": "Python 3",
   "language": "python",
   "name": "python3"
  },
  "language_info": {
   "codemirror_mode": {
    "name": "ipython",
    "version": 3
   },
   "file_extension": ".py",
   "mimetype": "text/x-python",
   "name": "python",
   "nbconvert_exporter": "python",
   "pygments_lexer": "ipython3",
   "version": "3.5.2"
  }
 },
 "nbformat": 4,
 "nbformat_minor": 4
}
